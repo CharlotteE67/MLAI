{
 "cells": [
  {
   "cell_type": "code",
   "execution_count": 1,
   "id": "7a9d9675",
   "metadata": {},
   "outputs": [
    {
     "name": "stderr",
     "output_type": "stream",
     "text": [
      "/home/yuchen/anaconda3/envs/tte/lib/python3.8/site-packages/tqdm/auto.py:22: TqdmWarning: IProgress not found. Please update jupyter and ipywidgets. See https://ipywidgets.readthedocs.io/en/stable/user_install.html\n",
      "  from .autonotebook import tqdm as notebook_tqdm\n"
     ]
    }
   ],
   "source": [
    "import os\n",
    "import json\n",
    "\n",
    "import torch\n",
    "from PIL import Image\n",
    "from torchvision import transforms\n",
    "import matplotlib.pyplot as plt\n",
    "from model.vgg import vgg"
   ]
  },
  {
   "cell_type": "code",
   "execution_count": 2,
   "id": "58f2c287",
   "metadata": {},
   "outputs": [],
   "source": [
    "device = torch.device(\"cuda:0\" if torch.cuda.is_available() else \"cpu\")\n",
    "\n",
    "data_transform = transforms.Compose(\n",
    "    [transforms.Resize((224, 224)),\n",
    "     transforms.ToTensor(),\n",
    "     transforms.Normalize((0.5, 0.5, 0.5), (0.5, 0.5, 0.5))])\n"
   ]
  },
  {
   "cell_type": "code",
   "execution_count": 5,
   "id": "f16b2dd4",
   "metadata": {},
   "outputs": [],
   "source": [
    "def predict(dropout, test_root, weight_path):\n",
    "    model = vgg(model_name=\"vgg16\", dropout=dropout, num_classes=2).to(device)\n",
    "    model.load_state_dict(torch.load(weight_path, map_location=device))\n",
    "        \n",
    "    model.eval()\n",
    "    \n",
    "    json_path = './class_indices.json'\n",
    "\n",
    "    with open(json_path, \"r\") as f:\n",
    "        class_indict = json.load(f)\n",
    "    \n",
    "    f.close()\n",
    "    \n",
    "    tp, tn, fn, fp = 0, 0, 0, 0\n",
    "    # define occupied as positive and empty as negative\n",
    "    \n",
    "    empty_list = os.listdir(test_root+'empty/')\n",
    "    for file in empty_list:\n",
    "        img_path = test_root+'empty/'+file\n",
    "        img = Image.open(img_path)\n",
    "        img = data_transform(img)\n",
    "        img = torch.unsqueeze(img, dim=0)\n",
    "    \n",
    "        with torch.no_grad():\n",
    "            # predict class\n",
    "            output = torch.squeeze(model(img.to(device))).cpu()\n",
    "            predict = torch.softmax(output, dim=0)\n",
    "            predict_cla = torch.argmax(predict).numpy()\n",
    "        if predict_cla == 0:\n",
    "            # empty get!\n",
    "            tn += 1\n",
    "        else:\n",
    "            fp += 1\n",
    "            \n",
    "    occupied_list = os.listdir(test_root+'occupied/')\n",
    "    for file in occupied_list:\n",
    "        img_path = test_root+'occupied/'+file\n",
    "        img = Image.open(img_path)\n",
    "        img = data_transform(img)\n",
    "        img = torch.unsqueeze(img, dim=0)\n",
    "    \n",
    "        with torch.no_grad():\n",
    "            # predict class\n",
    "            output = torch.squeeze(model(img.to(device))).cpu()\n",
    "            predict = torch.softmax(output, dim=0)\n",
    "            predict_cla = torch.argmax(predict).numpy()\n",
    "        if predict_cla == 1:\n",
    "            # occupied get!\n",
    "            tp += 1\n",
    "        else:\n",
    "            fn += 1\n",
    "    \n",
    "    recall = tp / (tp + fn)\n",
    "    precision = tp / (tp + fp)\n",
    "    acc = (tp + tn) / (tp + tn + fp + fn)\n",
    "    f1_score = 2 * precision * recall / (precision + recall)\n",
    "    \n",
    "    return recall, precision, f1_score, acc"
   ]
  },
  {
   "cell_type": "code",
   "execution_count": 6,
   "id": "fbc5c5e8",
   "metadata": {},
   "outputs": [
    {
     "name": "stdout",
     "output_type": "stream",
     "text": [
      "Dropout = 0\n",
      "0.99 0.9519230769230769 0.9705882352941176 0.9512195121951219\n",
      "Dropout = 0.1\n",
      "0.985 0.9800995024875622 0.9825436408977556 0.9715447154471545\n",
      "Dropout = 0.5\n",
      "0.995 0.9754901960784313 0.9851485148514851 0.975609756097561\n"
     ]
    }
   ],
   "source": [
    "# Hyper setting: dropout\n",
    "dropouts = [0, 0.1, 0.5]\n",
    "weights = ['./weights/vgg16_lr_1e_4_dp_0.pth', './weights/vgg16_lr_1e_4_dp_01.pth', './weights/vgg16_lr_1e_4_dp_05.pth']\n",
    "for i in range(len(dropouts)):\n",
    "    dp = dropouts[i]\n",
    "    weight_path = weights[i]\n",
    "    recall, precision, f1_score, acc = predict(dp, './data/test/', weight_path)\n",
    "    print('Dropout =', dp)\n",
    "    print(recall, precision, f1_score, acc)"
   ]
  },
  {
   "cell_type": "code",
   "execution_count": null,
   "id": "ff205d98",
   "metadata": {},
   "outputs": [],
   "source": []
  }
 ],
 "metadata": {
  "kernelspec": {
   "display_name": "tte",
   "language": "python",
   "name": "tte"
  },
  "language_info": {
   "codemirror_mode": {
    "name": "ipython",
    "version": 3
   },
   "file_extension": ".py",
   "mimetype": "text/x-python",
   "name": "python",
   "nbconvert_exporter": "python",
   "pygments_lexer": "ipython3",
   "version": "3.8.12"
  }
 },
 "nbformat": 4,
 "nbformat_minor": 5
}
