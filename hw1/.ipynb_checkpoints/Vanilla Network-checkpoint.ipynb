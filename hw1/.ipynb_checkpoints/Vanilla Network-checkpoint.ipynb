{
 "cells": [
  {
   "cell_type": "code",
   "execution_count": 1,
   "id": "57d457e5",
   "metadata": {},
   "outputs": [
    {
     "name": "stdout",
     "output_type": "stream",
     "text": [
      "tensor([[0.1255, 0.5377],\n",
      "        [0.6564, 0.0365],\n",
      "        [0.5837, 0.7018],\n",
      "        [0.3068, 0.9500],\n",
      "        [0.4321, 0.2946],\n",
      "        [0.6015, 0.1762],\n",
      "        [0.9945, 0.3177],\n",
      "        [0.9886, 0.3911]])\n",
      "tensor([0, 2, 2, 0, 2, 2, 0, 1])\n"
     ]
    }
   ],
   "source": [
    "# initialize\n",
    "import torch\n",
    "\n",
    "# Make data\n",
    "torch.manual_seed(4321)\n",
    "\n",
    "X = torch.rand(size=(8, 2))\n",
    "y = torch.randint(low=0, high=3, size=(8,))\n",
    "\n",
    "print(X)\n",
    "print(y)"
   ]
  },
  {
   "cell_type": "code",
   "execution_count": 2,
   "id": "818bac57",
   "metadata": {},
   "outputs": [],
   "source": [
    "# Define network\n",
    "import torch.nn as nn\n",
    "\n",
    "class VanillaNet(nn.Module):\n",
    "    def __init__(self):\n",
    "        super().__init__()\n",
    "        self.fc1 = nn.Linear(in_features=2, out_features=2, bias=True)\n",
    "        self.activation1 = nn.Sigmoid()\n",
    "        self.fc2 = nn.Linear(in_features=2, out_features=3, bias=True)\n",
    "        self.activation2 = nn.Softmax(dim=-1)\n",
    "        \n",
    "        # init_weight\n",
    "        with torch.no_grad():\n",
    "            self.fc1.weight.copy_(torch.tensor(([[0.48, -0.51], [-0.43, -0.48]])))\n",
    "            self.fc1.bias.copy_(torch.tensor([0.23, 0.05]))\n",
    "            self.fc2.weight.copy_(torch.tensor(([[-0.99, -0.66], [0.36, 0.34], [-0.75, 0.66]])))\n",
    "            self.fc2.bias.copy_(torch.tensor([0.32, -0.44, 0.70]))\n",
    "        \n",
    "    def forward(self, x):\n",
    "        x = self.activation1(self.fc1(x))\n",
    "        x = self.activation2(self.fc2(x))\n",
    "        return x\n"
   ]
  },
  {
   "cell_type": "code",
   "execution_count": 3,
   "id": "e970ea2c",
   "metadata": {},
   "outputs": [
    {
     "data": {
      "text/plain": [
       "tensor([[0.1867, 0.2663, 0.5470],\n",
       "        [0.1747, 0.2958, 0.5295],\n",
       "        [0.1959, 0.2738, 0.5303],\n",
       "        [0.2022, 0.2590, 0.5388],\n",
       "        [0.1812, 0.2820, 0.5368],\n",
       "        [0.1787, 0.2902, 0.5311],\n",
       "        [0.1863, 0.2966, 0.5171],\n",
       "        [0.1886, 0.2943, 0.5171]], grad_fn=<SoftmaxBackward0>)"
      ]
     },
     "execution_count": 3,
     "metadata": {},
     "output_type": "execute_result"
    }
   ],
   "source": [
    "# Main and prediction\n",
    "model = VanillaNet()\n",
    "prediction = model(X)\n",
    "prediction"
   ]
  },
  {
   "cell_type": "code",
   "execution_count": 4,
   "id": "1ee23904",
   "metadata": {},
   "outputs": [
    {
     "data": {
      "text/plain": [
       "tensor(1.0681, grad_fn=<NllLossBackward0>)"
      ]
     },
     "execution_count": 4,
     "metadata": {},
     "output_type": "execute_result"
    }
   ],
   "source": [
    "# Loss\n",
    "loss_fn = nn.CrossEntropyLoss()\n",
    "loss = loss_fn(prediction, y)\n",
    "loss"
   ]
  },
  {
   "cell_type": "code",
   "execution_count": 6,
   "id": "15a54035",
   "metadata": {},
   "outputs": [
    {
     "name": "stdout",
     "output_type": "stream",
     "text": [
      "fc1.weight 's gradient: tensor([[ 0.0057,  0.0067],\n",
      "        [-0.0017,  0.0058]])\n",
      "fc1.bias 's gradient: tensor([0.0167, 0.0001])\n",
      "fc2.weight 's gradient: tensor([[-0.0059, -0.0053],\n",
      "        [ 0.0323,  0.0252],\n",
      "        [-0.0264, -0.0199]])\n",
      "fc2.bias 's gradient: tensor([-0.0157,  0.0579, -0.0422])\n"
     ]
    }
   ],
   "source": [
    "# gradient of loss\n",
    "loss.backward()\n",
    "for name, param in model.named_parameters():\n",
    "    print(name, \"'s gradient:\",  param.grad)"
   ]
  },
  {
   "cell_type": "code",
   "execution_count": null,
   "id": "8cf89e93",
   "metadata": {},
   "outputs": [],
   "source": []
  }
 ],
 "metadata": {
  "kernelspec": {
   "display_name": "mlai",
   "language": "python",
   "name": "mlai"
  },
  "language_info": {
   "codemirror_mode": {
    "name": "ipython",
    "version": 3
   },
   "file_extension": ".py",
   "mimetype": "text/x-python",
   "name": "python",
   "nbconvert_exporter": "python",
   "pygments_lexer": "ipython3",
   "version": "3.7.12"
  }
 },
 "nbformat": 4,
 "nbformat_minor": 5
}
